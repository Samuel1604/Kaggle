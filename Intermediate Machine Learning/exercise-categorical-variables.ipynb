{
 "cells": [
  {
   "cell_type": "markdown",
   "id": "25bf95ba",
   "metadata": {
    "papermill": {
     "duration": 0.00928,
     "end_time": "2024-01-31T13:04:42.952452",
     "exception": false,
     "start_time": "2024-01-31T13:04:42.943172",
     "status": "completed"
    },
    "tags": []
   },
   "source": [
    "**This notebook is an exercise in the [Intermediate Machine Learning](https://www.kaggle.com/learn/intermediate-machine-learning) course.  You can reference the tutorial at [this link](https://www.kaggle.com/alexisbcook/categorical-variables).**\n",
    "\n",
    "---\n"
   ]
  },
  {
   "cell_type": "markdown",
   "id": "cb328e28",
   "metadata": {
    "papermill": {
     "duration": 0.00948,
     "end_time": "2024-01-31T13:04:42.971231",
     "exception": false,
     "start_time": "2024-01-31T13:04:42.961751",
     "status": "completed"
    },
    "tags": []
   },
   "source": [
    "By encoding **categorical variables**, you'll obtain your best results thus far!\n",
    "\n",
    "# Setup\n",
    "\n",
    "The questions below will give you feedback on your work. Run the following cell to set up the feedback system."
   ]
  },
  {
   "cell_type": "code",
   "execution_count": 1,
   "id": "0fecb422",
   "metadata": {
    "execution": {
     "iopub.execute_input": "2024-01-31T13:04:42.990786Z",
     "iopub.status.busy": "2024-01-31T13:04:42.990114Z",
     "iopub.status.idle": "2024-01-31T13:04:43.962481Z",
     "shell.execute_reply": "2024-01-31T13:04:43.961259Z"
    },
    "papermill": {
     "duration": 0.986644,
     "end_time": "2024-01-31T13:04:43.966628",
     "exception": false,
     "start_time": "2024-01-31T13:04:42.979984",
     "status": "completed"
    },
    "tags": []
   },
   "outputs": [
    {
     "name": "stdout",
     "output_type": "stream",
     "text": [
      "Setup Complete\n"
     ]
    }
   ],
   "source": [
    "# Set up code checking\n",
    "import os\n",
    "if not os.path.exists(\"../input/train.csv\"):\n",
    "    os.symlink(\"../input/home-data-for-ml-course/train.csv\", \"../input/train.csv\")  \n",
    "    os.symlink(\"../input/home-data-for-ml-course/test.csv\", \"../input/test.csv\") \n",
    "from learntools.core import binder\n",
    "binder.bind(globals())\n",
    "from learntools.ml_intermediate.ex3 import *\n",
    "print(\"Setup Complete\")"
   ]
  },
  {
   "cell_type": "markdown",
   "id": "a1a6e5cc",
   "metadata": {
    "papermill": {
     "duration": 0.010717,
     "end_time": "2024-01-31T13:04:43.987153",
     "exception": false,
     "start_time": "2024-01-31T13:04:43.976436",
     "status": "completed"
    },
    "tags": []
   },
   "source": [
    "In this exercise, you will work with data from the [Housing Prices Competition for Kaggle Learn Users](https://www.kaggle.com/c/home-data-for-ml-course). \n",
    "\n",
    "![Ames Housing dataset image](https://storage.googleapis.com/kaggle-media/learn/images/lTJVG4e.png)\n",
    "\n",
    "Run the next code cell without changes to load the training and validation sets in `X_train`, `X_valid`, `y_train`, and `y_valid`.  The test set is loaded in `X_test`."
   ]
  },
  {
   "cell_type": "code",
   "execution_count": 2,
   "id": "a4559cc5",
   "metadata": {
    "execution": {
     "iopub.execute_input": "2024-01-31T13:04:44.006322Z",
     "iopub.status.busy": "2024-01-31T13:04:44.005851Z",
     "iopub.status.idle": "2024-01-31T13:04:45.504054Z",
     "shell.execute_reply": "2024-01-31T13:04:45.502959Z"
    },
    "papermill": {
     "duration": 1.510394,
     "end_time": "2024-01-31T13:04:45.506283",
     "exception": false,
     "start_time": "2024-01-31T13:04:43.995889",
     "status": "completed"
    },
    "tags": []
   },
   "outputs": [],
   "source": [
    "import pandas as pd\n",
    "from sklearn.model_selection import train_test_split\n",
    "\n",
    "# Read the data\n",
    "X = pd.read_csv('../input/train.csv', index_col='Id') \n",
    "X_test = pd.read_csv('../input/test.csv', index_col='Id')\n",
    "\n",
    "# Remove rows with missing target, separate target from predictors\n",
    "X.dropna(axis=0, subset=['SalePrice'], inplace=True)\n",
    "y = X.SalePrice\n",
    "X.drop(['SalePrice'], axis=1, inplace=True)\n",
    "\n",
    "# To keep things simple, we'll drop columns with missing values\n",
    "cols_with_missing = [col for col in X.columns if X[col].isnull().any()] \n",
    "X.drop(cols_with_missing, axis=1, inplace=True)\n",
    "X_test.drop(cols_with_missing, axis=1, inplace=True)\n",
    "\n",
    "# Break off validation set from training data\n",
    "X_train, X_valid, y_train, y_valid = train_test_split(X, y,\n",
    "                                                      train_size=0.8, test_size=0.2,\n",
    "                                                      random_state=0)"
   ]
  },
  {
   "cell_type": "markdown",
   "id": "2846bc3d",
   "metadata": {
    "papermill": {
     "duration": 0.008652,
     "end_time": "2024-01-31T13:04:45.524200",
     "exception": false,
     "start_time": "2024-01-31T13:04:45.515548",
     "status": "completed"
    },
    "tags": []
   },
   "source": [
    "Use the next code cell to print the first five rows of the data."
   ]
  },
  {
   "cell_type": "code",
   "execution_count": 3,
   "id": "8c6e2bfa",
   "metadata": {
    "execution": {
     "iopub.execute_input": "2024-01-31T13:04:45.543762Z",
     "iopub.status.busy": "2024-01-31T13:04:45.543098Z",
     "iopub.status.idle": "2024-01-31T13:04:45.564741Z",
     "shell.execute_reply": "2024-01-31T13:04:45.563890Z"
    },
    "papermill": {
     "duration": 0.033774,
     "end_time": "2024-01-31T13:04:45.566674",
     "exception": false,
     "start_time": "2024-01-31T13:04:45.532900",
     "status": "completed"
    },
    "tags": []
   },
   "outputs": [
    {
     "data": {
      "text/html": [
       "<div>\n",
       "<style scoped>\n",
       "    .dataframe tbody tr th:only-of-type {\n",
       "        vertical-align: middle;\n",
       "    }\n",
       "\n",
       "    .dataframe tbody tr th {\n",
       "        vertical-align: top;\n",
       "    }\n",
       "\n",
       "    .dataframe thead th {\n",
       "        text-align: right;\n",
       "    }\n",
       "</style>\n",
       "<table border=\"1\" class=\"dataframe\">\n",
       "  <thead>\n",
       "    <tr style=\"text-align: right;\">\n",
       "      <th></th>\n",
       "      <th>MSSubClass</th>\n",
       "      <th>MSZoning</th>\n",
       "      <th>LotArea</th>\n",
       "      <th>Street</th>\n",
       "      <th>LotShape</th>\n",
       "      <th>LandContour</th>\n",
       "      <th>Utilities</th>\n",
       "      <th>LotConfig</th>\n",
       "      <th>LandSlope</th>\n",
       "      <th>Neighborhood</th>\n",
       "      <th>...</th>\n",
       "      <th>OpenPorchSF</th>\n",
       "      <th>EnclosedPorch</th>\n",
       "      <th>3SsnPorch</th>\n",
       "      <th>ScreenPorch</th>\n",
       "      <th>PoolArea</th>\n",
       "      <th>MiscVal</th>\n",
       "      <th>MoSold</th>\n",
       "      <th>YrSold</th>\n",
       "      <th>SaleType</th>\n",
       "      <th>SaleCondition</th>\n",
       "    </tr>\n",
       "    <tr>\n",
       "      <th>Id</th>\n",
       "      <th></th>\n",
       "      <th></th>\n",
       "      <th></th>\n",
       "      <th></th>\n",
       "      <th></th>\n",
       "      <th></th>\n",
       "      <th></th>\n",
       "      <th></th>\n",
       "      <th></th>\n",
       "      <th></th>\n",
       "      <th></th>\n",
       "      <th></th>\n",
       "      <th></th>\n",
       "      <th></th>\n",
       "      <th></th>\n",
       "      <th></th>\n",
       "      <th></th>\n",
       "      <th></th>\n",
       "      <th></th>\n",
       "      <th></th>\n",
       "      <th></th>\n",
       "    </tr>\n",
       "  </thead>\n",
       "  <tbody>\n",
       "    <tr>\n",
       "      <th>619</th>\n",
       "      <td>20</td>\n",
       "      <td>RL</td>\n",
       "      <td>11694</td>\n",
       "      <td>Pave</td>\n",
       "      <td>Reg</td>\n",
       "      <td>Lvl</td>\n",
       "      <td>AllPub</td>\n",
       "      <td>Inside</td>\n",
       "      <td>Gtl</td>\n",
       "      <td>NridgHt</td>\n",
       "      <td>...</td>\n",
       "      <td>108</td>\n",
       "      <td>0</td>\n",
       "      <td>0</td>\n",
       "      <td>260</td>\n",
       "      <td>0</td>\n",
       "      <td>0</td>\n",
       "      <td>7</td>\n",
       "      <td>2007</td>\n",
       "      <td>New</td>\n",
       "      <td>Partial</td>\n",
       "    </tr>\n",
       "    <tr>\n",
       "      <th>871</th>\n",
       "      <td>20</td>\n",
       "      <td>RL</td>\n",
       "      <td>6600</td>\n",
       "      <td>Pave</td>\n",
       "      <td>Reg</td>\n",
       "      <td>Lvl</td>\n",
       "      <td>AllPub</td>\n",
       "      <td>Inside</td>\n",
       "      <td>Gtl</td>\n",
       "      <td>NAmes</td>\n",
       "      <td>...</td>\n",
       "      <td>0</td>\n",
       "      <td>0</td>\n",
       "      <td>0</td>\n",
       "      <td>0</td>\n",
       "      <td>0</td>\n",
       "      <td>0</td>\n",
       "      <td>8</td>\n",
       "      <td>2009</td>\n",
       "      <td>WD</td>\n",
       "      <td>Normal</td>\n",
       "    </tr>\n",
       "    <tr>\n",
       "      <th>93</th>\n",
       "      <td>30</td>\n",
       "      <td>RL</td>\n",
       "      <td>13360</td>\n",
       "      <td>Pave</td>\n",
       "      <td>IR1</td>\n",
       "      <td>HLS</td>\n",
       "      <td>AllPub</td>\n",
       "      <td>Inside</td>\n",
       "      <td>Gtl</td>\n",
       "      <td>Crawfor</td>\n",
       "      <td>...</td>\n",
       "      <td>0</td>\n",
       "      <td>44</td>\n",
       "      <td>0</td>\n",
       "      <td>0</td>\n",
       "      <td>0</td>\n",
       "      <td>0</td>\n",
       "      <td>8</td>\n",
       "      <td>2009</td>\n",
       "      <td>WD</td>\n",
       "      <td>Normal</td>\n",
       "    </tr>\n",
       "    <tr>\n",
       "      <th>818</th>\n",
       "      <td>20</td>\n",
       "      <td>RL</td>\n",
       "      <td>13265</td>\n",
       "      <td>Pave</td>\n",
       "      <td>IR1</td>\n",
       "      <td>Lvl</td>\n",
       "      <td>AllPub</td>\n",
       "      <td>CulDSac</td>\n",
       "      <td>Gtl</td>\n",
       "      <td>Mitchel</td>\n",
       "      <td>...</td>\n",
       "      <td>59</td>\n",
       "      <td>0</td>\n",
       "      <td>0</td>\n",
       "      <td>0</td>\n",
       "      <td>0</td>\n",
       "      <td>0</td>\n",
       "      <td>7</td>\n",
       "      <td>2008</td>\n",
       "      <td>WD</td>\n",
       "      <td>Normal</td>\n",
       "    </tr>\n",
       "    <tr>\n",
       "      <th>303</th>\n",
       "      <td>20</td>\n",
       "      <td>RL</td>\n",
       "      <td>13704</td>\n",
       "      <td>Pave</td>\n",
       "      <td>IR1</td>\n",
       "      <td>Lvl</td>\n",
       "      <td>AllPub</td>\n",
       "      <td>Corner</td>\n",
       "      <td>Gtl</td>\n",
       "      <td>CollgCr</td>\n",
       "      <td>...</td>\n",
       "      <td>81</td>\n",
       "      <td>0</td>\n",
       "      <td>0</td>\n",
       "      <td>0</td>\n",
       "      <td>0</td>\n",
       "      <td>0</td>\n",
       "      <td>1</td>\n",
       "      <td>2006</td>\n",
       "      <td>WD</td>\n",
       "      <td>Normal</td>\n",
       "    </tr>\n",
       "  </tbody>\n",
       "</table>\n",
       "<p>5 rows × 60 columns</p>\n",
       "</div>"
      ],
      "text/plain": [
       "     MSSubClass MSZoning  LotArea Street LotShape LandContour Utilities  \\\n",
       "Id                                                                        \n",
       "619          20       RL    11694   Pave      Reg         Lvl    AllPub   \n",
       "871          20       RL     6600   Pave      Reg         Lvl    AllPub   \n",
       "93           30       RL    13360   Pave      IR1         HLS    AllPub   \n",
       "818          20       RL    13265   Pave      IR1         Lvl    AllPub   \n",
       "303          20       RL    13704   Pave      IR1         Lvl    AllPub   \n",
       "\n",
       "    LotConfig LandSlope Neighborhood  ... OpenPorchSF EnclosedPorch 3SsnPorch  \\\n",
       "Id                                    ...                                       \n",
       "619    Inside       Gtl      NridgHt  ...         108             0         0   \n",
       "871    Inside       Gtl        NAmes  ...           0             0         0   \n",
       "93     Inside       Gtl      Crawfor  ...           0            44         0   \n",
       "818   CulDSac       Gtl      Mitchel  ...          59             0         0   \n",
       "303    Corner       Gtl      CollgCr  ...          81             0         0   \n",
       "\n",
       "    ScreenPorch  PoolArea  MiscVal  MoSold  YrSold SaleType SaleCondition  \n",
       "Id                                                                         \n",
       "619         260         0        0       7    2007      New       Partial  \n",
       "871           0         0        0       8    2009       WD        Normal  \n",
       "93            0         0        0       8    2009       WD        Normal  \n",
       "818           0         0        0       7    2008       WD        Normal  \n",
       "303           0         0        0       1    2006       WD        Normal  \n",
       "\n",
       "[5 rows x 60 columns]"
      ]
     },
     "execution_count": 3,
     "metadata": {},
     "output_type": "execute_result"
    }
   ],
   "source": [
    "X_train.head()"
   ]
  },
  {
   "cell_type": "markdown",
   "id": "2bb02749",
   "metadata": {
    "papermill": {
     "duration": 0.008806,
     "end_time": "2024-01-31T13:04:45.584522",
     "exception": false,
     "start_time": "2024-01-31T13:04:45.575716",
     "status": "completed"
    },
    "tags": []
   },
   "source": [
    "Notice that the dataset contains both numerical and categorical variables.  You'll need to encode the categorical data before training a model.\n",
    "\n",
    "To compare different models, you'll use the same `score_dataset()` function from the tutorial.  This function reports the [mean absolute error](https://en.wikipedia.org/wiki/Mean_absolute_error) (MAE) from a random forest model."
   ]
  },
  {
   "cell_type": "code",
   "execution_count": 4,
   "id": "4a55ff90",
   "metadata": {
    "execution": {
     "iopub.execute_input": "2024-01-31T13:04:45.604308Z",
     "iopub.status.busy": "2024-01-31T13:04:45.603584Z",
     "iopub.status.idle": "2024-01-31T13:04:45.966165Z",
     "shell.execute_reply": "2024-01-31T13:04:45.965084Z"
    },
    "papermill": {
     "duration": 0.375765,
     "end_time": "2024-01-31T13:04:45.969147",
     "exception": false,
     "start_time": "2024-01-31T13:04:45.593382",
     "status": "completed"
    },
    "tags": []
   },
   "outputs": [],
   "source": [
    "from sklearn.ensemble import RandomForestRegressor\n",
    "from sklearn.metrics import mean_absolute_error\n",
    "\n",
    "# function for comparing different approaches\n",
    "def score_dataset(X_train, X_valid, y_train, y_valid):\n",
    "    model = RandomForestRegressor(n_estimators=100, random_state=0)\n",
    "    model.fit(X_train, y_train)\n",
    "    preds = model.predict(X_valid)\n",
    "    return mean_absolute_error(y_valid, preds)"
   ]
  },
  {
   "cell_type": "markdown",
   "id": "23fb0eef",
   "metadata": {
    "papermill": {
     "duration": 0.009323,
     "end_time": "2024-01-31T13:04:45.988104",
     "exception": false,
     "start_time": "2024-01-31T13:04:45.978781",
     "status": "completed"
    },
    "tags": []
   },
   "source": [
    "# Step 1: Drop columns with categorical data\n",
    "\n",
    "You'll get started with the most straightforward approach.  Use the code cell below to preprocess the data in `X_train` and `X_valid` to remove columns with categorical data.  Set the preprocessed DataFrames to `drop_X_train` and `drop_X_valid`, respectively.  "
   ]
  },
  {
   "cell_type": "code",
   "execution_count": 5,
   "id": "cbeed230",
   "metadata": {
    "execution": {
     "iopub.execute_input": "2024-01-31T13:04:46.008815Z",
     "iopub.status.busy": "2024-01-31T13:04:46.008116Z",
     "iopub.status.idle": "2024-01-31T13:04:46.017919Z",
     "shell.execute_reply": "2024-01-31T13:04:46.016962Z"
    },
    "papermill": {
     "duration": 0.022292,
     "end_time": "2024-01-31T13:04:46.019690",
     "exception": false,
     "start_time": "2024-01-31T13:04:45.997398",
     "status": "completed"
    },
    "tags": []
   },
   "outputs": [
    {
     "data": {
      "application/javascript": [
       "parent.postMessage({\"jupyterEvent\": \"custom.exercise_interaction\", \"data\": {\"outcomeType\": 1, \"valueTowardsCompletion\": 0.5, \"interactionType\": 1, \"questionType\": 2, \"questionId\": \"1_Drop\", \"learnToolsVersion\": \"0.3.4\", \"failureMessage\": \"\", \"exceptionClass\": \"\", \"trace\": \"\"}}, \"*\")"
      ],
      "text/plain": [
       "<IPython.core.display.Javascript object>"
      ]
     },
     "metadata": {},
     "output_type": "display_data"
    },
    {
     "data": {
      "text/markdown": [
       "<span style=\"color:#33cc33\">Correct</span>"
      ],
      "text/plain": [
       "Correct"
      ]
     },
     "metadata": {},
     "output_type": "display_data"
    }
   ],
   "source": [
    "# Fill in the lines below: drop columns in training and validation data\n",
    "drop_X_train = X_train.select_dtypes(exclude=\"object\")\n",
    "drop_X_valid = X_valid.select_dtypes(exclude=\"object\")\n",
    "\n",
    "# Check your answers\n",
    "step_1.check()"
   ]
  },
  {
   "cell_type": "code",
   "execution_count": 6,
   "id": "f676aa9a",
   "metadata": {
    "execution": {
     "iopub.execute_input": "2024-01-31T13:04:46.040746Z",
     "iopub.status.busy": "2024-01-31T13:04:46.040041Z",
     "iopub.status.idle": "2024-01-31T13:04:46.044102Z",
     "shell.execute_reply": "2024-01-31T13:04:46.043418Z"
    },
    "papermill": {
     "duration": 0.016738,
     "end_time": "2024-01-31T13:04:46.045852",
     "exception": false,
     "start_time": "2024-01-31T13:04:46.029114",
     "status": "completed"
    },
    "tags": []
   },
   "outputs": [],
   "source": [
    "# Lines below will give you a hint or solution code\n",
    "#step_1.hint()\n",
    "#step_1.solution()"
   ]
  },
  {
   "cell_type": "markdown",
   "id": "52eec0fc",
   "metadata": {
    "papermill": {
     "duration": 0.009254,
     "end_time": "2024-01-31T13:04:46.064790",
     "exception": false,
     "start_time": "2024-01-31T13:04:46.055536",
     "status": "completed"
    },
    "tags": []
   },
   "source": [
    "Run the next code cell to get the MAE for this approach."
   ]
  },
  {
   "cell_type": "code",
   "execution_count": 7,
   "id": "4acead84",
   "metadata": {
    "execution": {
     "iopub.execute_input": "2024-01-31T13:04:46.085785Z",
     "iopub.status.busy": "2024-01-31T13:04:46.085351Z",
     "iopub.status.idle": "2024-01-31T13:04:47.082034Z",
     "shell.execute_reply": "2024-01-31T13:04:47.080880Z"
    },
    "papermill": {
     "duration": 1.009605,
     "end_time": "2024-01-31T13:04:47.083915",
     "exception": false,
     "start_time": "2024-01-31T13:04:46.074310",
     "status": "completed"
    },
    "tags": []
   },
   "outputs": [
    {
     "name": "stdout",
     "output_type": "stream",
     "text": [
      "MAE from Approach 1 (Drop categorical variables):\n",
      "17837.82570776256\n"
     ]
    }
   ],
   "source": [
    "print(\"MAE from Approach 1 (Drop categorical variables):\")\n",
    "print(score_dataset(drop_X_train, drop_X_valid, y_train, y_valid))"
   ]
  },
  {
   "cell_type": "markdown",
   "id": "491791f1",
   "metadata": {
    "papermill": {
     "duration": 0.00922,
     "end_time": "2024-01-31T13:04:47.102718",
     "exception": false,
     "start_time": "2024-01-31T13:04:47.093498",
     "status": "completed"
    },
    "tags": []
   },
   "source": [
    "Before jumping into ordinal encoding, we'll investigate the dataset.  Specifically, we'll look at the `'Condition2'` column.  The code cell below prints the unique entries in both the training and validation sets."
   ]
  },
  {
   "cell_type": "code",
   "execution_count": 8,
   "id": "74a49534",
   "metadata": {
    "execution": {
     "iopub.execute_input": "2024-01-31T13:04:47.124697Z",
     "iopub.status.busy": "2024-01-31T13:04:47.124294Z",
     "iopub.status.idle": "2024-01-31T13:04:47.132536Z",
     "shell.execute_reply": "2024-01-31T13:04:47.131351Z"
    },
    "papermill": {
     "duration": 0.022331,
     "end_time": "2024-01-31T13:04:47.134735",
     "exception": false,
     "start_time": "2024-01-31T13:04:47.112404",
     "status": "completed"
    },
    "tags": []
   },
   "outputs": [
    {
     "name": "stdout",
     "output_type": "stream",
     "text": [
      "Unique values in 'Condition2' column in training data: ['Norm' 'PosA' 'Feedr' 'PosN' 'Artery' 'RRAe']\n",
      "\n",
      "Unique values in 'Condition2' column in validation data: ['Norm' 'RRAn' 'RRNn' 'Artery' 'Feedr' 'PosN']\n"
     ]
    }
   ],
   "source": [
    "print(\"Unique values in 'Condition2' column in training data:\", X_train['Condition2'].unique())\n",
    "print(\"\\nUnique values in 'Condition2' column in validation data:\", X_valid['Condition2'].unique())"
   ]
  },
  {
   "cell_type": "markdown",
   "id": "96dd3243",
   "metadata": {
    "papermill": {
     "duration": 0.009086,
     "end_time": "2024-01-31T13:04:47.153385",
     "exception": false,
     "start_time": "2024-01-31T13:04:47.144299",
     "status": "completed"
    },
    "tags": []
   },
   "source": [
    "# Step 2: Ordinal encoding\n",
    "\n",
    "### Part A\n",
    "\n",
    "If you now write code to: \n",
    "- fit an ordinal encoder to the training data, and then \n",
    "- use it to transform both the training and validation data, \n",
    "\n",
    "you'll get an error.  Can you see why this is the case?  (_You'll need  to use the above output to answer this question._)"
   ]
  },
  {
   "cell_type": "code",
   "execution_count": 9,
   "id": "048ab2e6",
   "metadata": {
    "execution": {
     "iopub.execute_input": "2024-01-31T13:04:47.174521Z",
     "iopub.status.busy": "2024-01-31T13:04:47.174135Z",
     "iopub.status.idle": "2024-01-31T13:04:47.182532Z",
     "shell.execute_reply": "2024-01-31T13:04:47.181346Z"
    },
    "papermill": {
     "duration": 0.021318,
     "end_time": "2024-01-31T13:04:47.184335",
     "exception": false,
     "start_time": "2024-01-31T13:04:47.163017",
     "status": "completed"
    },
    "tags": []
   },
   "outputs": [
    {
     "data": {
      "application/javascript": [
       "parent.postMessage({\"jupyterEvent\": \"custom.exercise_interaction\", \"data\": {\"outcomeType\": 1, \"valueTowardsCompletion\": 0.5, \"interactionType\": 1, \"questionType\": 4, \"questionId\": \"2.1_LabelA\", \"learnToolsVersion\": \"0.3.4\", \"failureMessage\": \"\", \"exceptionClass\": \"\", \"trace\": \"\"}}, \"*\")"
      ],
      "text/plain": [
       "<IPython.core.display.Javascript object>"
      ]
     },
     "metadata": {},
     "output_type": "display_data"
    },
    {
     "data": {
      "text/markdown": [
       "<span style=\"color:#33cc33\">Correct:</span> \n",
       "\n",
       "Fitting an ordinal encoder to a column in the training data creates a corresponding integer-valued label for each unique value **that appears in the training data**. In the case that the validation data contains values that don't also appear in the training data, the encoder will throw an error, because these values won't have an integer assigned to them.  Notice that the `'Condition2'` column in the validation data contains the values `'RRAn'` and `'RRNn'`, but these don't appear in the training data -- thus, if we try to use an ordinal encoder with scikit-learn, the code will throw an error."
      ],
      "text/plain": [
       "Correct: \n",
       "\n",
       "Fitting an ordinal encoder to a column in the training data creates a corresponding integer-valued label for each unique value **that appears in the training data**. In the case that the validation data contains values that don't also appear in the training data, the encoder will throw an error, because these values won't have an integer assigned to them.  Notice that the `'Condition2'` column in the validation data contains the values `'RRAn'` and `'RRNn'`, but these don't appear in the training data -- thus, if we try to use an ordinal encoder with scikit-learn, the code will throw an error."
      ]
     },
     "metadata": {},
     "output_type": "display_data"
    }
   ],
   "source": [
    "# Check your answer (Run this code cell to receive credit!)\n",
    "step_2.a.check()"
   ]
  },
  {
   "cell_type": "code",
   "execution_count": 10,
   "id": "efd776dc",
   "metadata": {
    "execution": {
     "iopub.execute_input": "2024-01-31T13:04:47.206095Z",
     "iopub.status.busy": "2024-01-31T13:04:47.205750Z",
     "iopub.status.idle": "2024-01-31T13:04:47.209498Z",
     "shell.execute_reply": "2024-01-31T13:04:47.208654Z"
    },
    "papermill": {
     "duration": 0.017118,
     "end_time": "2024-01-31T13:04:47.211508",
     "exception": false,
     "start_time": "2024-01-31T13:04:47.194390",
     "status": "completed"
    },
    "tags": []
   },
   "outputs": [],
   "source": [
    "#step_2.a.hint()"
   ]
  },
  {
   "cell_type": "markdown",
   "id": "0ad2ef75",
   "metadata": {
    "papermill": {
     "duration": 0.009944,
     "end_time": "2024-01-31T13:04:47.231238",
     "exception": false,
     "start_time": "2024-01-31T13:04:47.221294",
     "status": "completed"
    },
    "tags": []
   },
   "source": [
    "This is a common problem that you'll encounter with real-world data, and there are many approaches to fixing this issue.  For instance, you can write a custom ordinal encoder to deal with new categories.  The simplest approach, however, is to drop the problematic categorical columns.  \n",
    "\n",
    "Run the code cell below to save the problematic columns to a Python list `bad_label_cols`.  Likewise, columns that can be safely ordinal encoded are stored in `good_label_cols`."
   ]
  },
  {
   "cell_type": "code",
   "execution_count": 11,
   "id": "1dcb266b",
   "metadata": {
    "execution": {
     "iopub.execute_input": "2024-01-31T13:04:47.252249Z",
     "iopub.status.busy": "2024-01-31T13:04:47.251871Z",
     "iopub.status.idle": "2024-01-31T13:04:47.264892Z",
     "shell.execute_reply": "2024-01-31T13:04:47.263643Z"
    },
    "papermill": {
     "duration": 0.025662,
     "end_time": "2024-01-31T13:04:47.266637",
     "exception": false,
     "start_time": "2024-01-31T13:04:47.240975",
     "status": "completed"
    },
    "tags": []
   },
   "outputs": [
    {
     "name": "stdout",
     "output_type": "stream",
     "text": [
      "Categorical columns that will be ordinal encoded: ['MSZoning', 'Street', 'LotShape', 'LandContour', 'Utilities', 'LotConfig', 'LandSlope', 'Neighborhood', 'Condition1', 'BldgType', 'HouseStyle', 'RoofStyle', 'Exterior1st', 'Exterior2nd', 'ExterQual', 'ExterCond', 'Foundation', 'Heating', 'HeatingQC', 'CentralAir', 'KitchenQual', 'PavedDrive', 'SaleType', 'SaleCondition']\n",
      "\n",
      "Categorical columns that will be dropped from the dataset: ['Functional', 'Condition2', 'RoofMatl']\n"
     ]
    }
   ],
   "source": [
    "# Categorical columns in the training data\n",
    "object_cols = [col for col in X_train.columns if X_train[col].dtype == \"object\"]\n",
    "\n",
    "# Columns that can be safely ordinal encoded\n",
    "good_label_cols = [col for col in object_cols if \n",
    "                   set(X_valid[col]).issubset(set(X_train[col]))]\n",
    "        \n",
    "# Problematic columns that will be dropped from the dataset\n",
    "bad_label_cols = list(set(object_cols)-set(good_label_cols))\n",
    "        \n",
    "print('Categorical columns that will be ordinal encoded:', good_label_cols)\n",
    "print('\\nCategorical columns that will be dropped from the dataset:', bad_label_cols)"
   ]
  },
  {
   "cell_type": "markdown",
   "id": "927fc8a9",
   "metadata": {
    "papermill": {
     "duration": 0.009905,
     "end_time": "2024-01-31T13:04:47.286432",
     "exception": false,
     "start_time": "2024-01-31T13:04:47.276527",
     "status": "completed"
    },
    "tags": []
   },
   "source": [
    "### Part B\n",
    "\n",
    "Use the next code cell to ordinal encode the data in `X_train` and `X_valid`.  Set the preprocessed DataFrames to `label_X_train` and `label_X_valid`, respectively.  \n",
    "- We have provided code below to drop the categorical columns in `bad_label_cols` from the dataset. \n",
    "- You should ordinal encode the categorical columns in `good_label_cols`.  "
   ]
  },
  {
   "cell_type": "code",
   "execution_count": 12,
   "id": "73d0e1b4",
   "metadata": {
    "execution": {
     "iopub.execute_input": "2024-01-31T13:04:47.309160Z",
     "iopub.status.busy": "2024-01-31T13:04:47.308240Z",
     "iopub.status.idle": "2024-01-31T13:04:47.349352Z",
     "shell.execute_reply": "2024-01-31T13:04:47.347935Z"
    },
    "papermill": {
     "duration": 0.054795,
     "end_time": "2024-01-31T13:04:47.351523",
     "exception": false,
     "start_time": "2024-01-31T13:04:47.296728",
     "status": "completed"
    },
    "tags": []
   },
   "outputs": [
    {
     "data": {
      "application/javascript": [
       "parent.postMessage({\"jupyterEvent\": \"custom.exercise_interaction\", \"data\": {\"outcomeType\": 1, \"valueTowardsCompletion\": 0.5, \"interactionType\": 1, \"questionType\": 2, \"questionId\": \"2.2_LabelB\", \"learnToolsVersion\": \"0.3.4\", \"failureMessage\": \"\", \"exceptionClass\": \"\", \"trace\": \"\"}}, \"*\")"
      ],
      "text/plain": [
       "<IPython.core.display.Javascript object>"
      ]
     },
     "metadata": {},
     "output_type": "display_data"
    },
    {
     "data": {
      "text/markdown": [
       "<span style=\"color:#33cc33\">Correct</span>"
      ],
      "text/plain": [
       "Correct"
      ]
     },
     "metadata": {},
     "output_type": "display_data"
    }
   ],
   "source": [
    "from sklearn.preprocessing import OrdinalEncoder\n",
    "\n",
    "# Drop categorical columns that will not be encoded\n",
    "label_X_train = X_train.drop(bad_label_cols, axis=1)\n",
    "label_X_valid = X_valid.drop(bad_label_cols, axis=1)\n",
    "\n",
    "# Apply ordinal encoder \n",
    "ordinal_encoder = OrdinalEncoder() # Your code here\n",
    "label_X_train[good_label_cols] = ordinal_encoder.fit_transform(X_train[good_label_cols])\n",
    "label_X_valid[good_label_cols] = ordinal_encoder.transform(X_valid[good_label_cols])\n",
    "\n",
    "# Check your answer\n",
    "step_2.b.check()"
   ]
  },
  {
   "cell_type": "code",
   "execution_count": 13,
   "id": "33942c6f",
   "metadata": {
    "execution": {
     "iopub.execute_input": "2024-01-31T13:04:47.374158Z",
     "iopub.status.busy": "2024-01-31T13:04:47.373766Z",
     "iopub.status.idle": "2024-01-31T13:04:47.378128Z",
     "shell.execute_reply": "2024-01-31T13:04:47.376886Z"
    },
    "papermill": {
     "duration": 0.018382,
     "end_time": "2024-01-31T13:04:47.380389",
     "exception": false,
     "start_time": "2024-01-31T13:04:47.362007",
     "status": "completed"
    },
    "tags": []
   },
   "outputs": [],
   "source": [
    "# Lines below will give you a hint or solution code\n",
    "#step_2.b.hint()\n",
    "#step_2.b.solution()"
   ]
  },
  {
   "cell_type": "markdown",
   "id": "ba9cb753",
   "metadata": {
    "papermill": {
     "duration": 0.009917,
     "end_time": "2024-01-31T13:04:47.400829",
     "exception": false,
     "start_time": "2024-01-31T13:04:47.390912",
     "status": "completed"
    },
    "tags": []
   },
   "source": [
    "Run the next code cell to get the MAE for this approach."
   ]
  },
  {
   "cell_type": "code",
   "execution_count": 14,
   "id": "108c0c9d",
   "metadata": {
    "execution": {
     "iopub.execute_input": "2024-01-31T13:04:47.422747Z",
     "iopub.status.busy": "2024-01-31T13:04:47.422354Z",
     "iopub.status.idle": "2024-01-31T13:04:48.677234Z",
     "shell.execute_reply": "2024-01-31T13:04:48.676166Z"
    },
    "papermill": {
     "duration": 1.268116,
     "end_time": "2024-01-31T13:04:48.679135",
     "exception": false,
     "start_time": "2024-01-31T13:04:47.411019",
     "status": "completed"
    },
    "tags": []
   },
   "outputs": [
    {
     "name": "stdout",
     "output_type": "stream",
     "text": [
      "MAE from Approach 2 (Ordinal Encoding):\n",
      "17098.01649543379\n"
     ]
    }
   ],
   "source": [
    "print(\"MAE from Approach 2 (Ordinal Encoding):\") \n",
    "print(score_dataset(label_X_train, label_X_valid, y_train, y_valid))"
   ]
  },
  {
   "cell_type": "markdown",
   "id": "0f708707",
   "metadata": {
    "papermill": {
     "duration": 0.00996,
     "end_time": "2024-01-31T13:04:48.758544",
     "exception": false,
     "start_time": "2024-01-31T13:04:48.748584",
     "status": "completed"
    },
    "tags": []
   },
   "source": [
    "So far, you've tried two different approaches to dealing with categorical variables.  And, you've seen that encoding categorical data yields better results than removing columns from the dataset.\n",
    "\n",
    "Soon, you'll try one-hot encoding.  Before then, there's one additional topic we need to cover.  Begin by running the next code cell without changes.  "
   ]
  },
  {
   "cell_type": "code",
   "execution_count": 15,
   "id": "a0756b85",
   "metadata": {
    "execution": {
     "iopub.execute_input": "2024-01-31T13:04:48.781186Z",
     "iopub.status.busy": "2024-01-31T13:04:48.780494Z",
     "iopub.status.idle": "2024-01-31T13:04:48.792806Z",
     "shell.execute_reply": "2024-01-31T13:04:48.791924Z"
    },
    "papermill": {
     "duration": 0.025866,
     "end_time": "2024-01-31T13:04:48.794801",
     "exception": false,
     "start_time": "2024-01-31T13:04:48.768935",
     "status": "completed"
    },
    "tags": []
   },
   "outputs": [
    {
     "data": {
      "text/plain": [
       "[('Street', 2),\n",
       " ('Utilities', 2),\n",
       " ('CentralAir', 2),\n",
       " ('LandSlope', 3),\n",
       " ('PavedDrive', 3),\n",
       " ('LotShape', 4),\n",
       " ('LandContour', 4),\n",
       " ('ExterQual', 4),\n",
       " ('KitchenQual', 4),\n",
       " ('MSZoning', 5),\n",
       " ('LotConfig', 5),\n",
       " ('BldgType', 5),\n",
       " ('ExterCond', 5),\n",
       " ('HeatingQC', 5),\n",
       " ('Condition2', 6),\n",
       " ('RoofStyle', 6),\n",
       " ('Foundation', 6),\n",
       " ('Heating', 6),\n",
       " ('Functional', 6),\n",
       " ('SaleCondition', 6),\n",
       " ('RoofMatl', 7),\n",
       " ('HouseStyle', 8),\n",
       " ('Condition1', 9),\n",
       " ('SaleType', 9),\n",
       " ('Exterior1st', 15),\n",
       " ('Exterior2nd', 16),\n",
       " ('Neighborhood', 25)]"
      ]
     },
     "execution_count": 15,
     "metadata": {},
     "output_type": "execute_result"
    }
   ],
   "source": [
    "# Get number of unique entries in each column with categorical data\n",
    "object_nunique = list(map(lambda col: X_train[col].nunique(), object_cols))\n",
    "d = dict(zip(object_cols, object_nunique))\n",
    "\n",
    "# Print number of unique entries by column, in ascending order\n",
    "sorted(d.items(), key=lambda x: x[1])"
   ]
  },
  {
   "cell_type": "markdown",
   "id": "1444d5fe",
   "metadata": {
    "papermill": {
     "duration": 0.009926,
     "end_time": "2024-01-31T13:04:48.814958",
     "exception": false,
     "start_time": "2024-01-31T13:04:48.805032",
     "status": "completed"
    },
    "tags": []
   },
   "source": [
    "# Step 3: Investigating cardinality\n",
    "\n",
    "### Part A\n",
    "\n",
    "The output above shows, for each column with categorical data, the number of unique values in the column.  For instance, the `'Street'` column in the training data has two unique values: `'Grvl'` and `'Pave'`, corresponding to a gravel road and a paved road, respectively.\n",
    "\n",
    "We refer to the number of unique entries of a categorical variable as the **cardinality** of that categorical variable.  For instance, the `'Street'` variable has cardinality 2.\n",
    "\n",
    "Use the output above to answer the questions below."
   ]
  },
  {
   "cell_type": "code",
   "execution_count": 16,
   "id": "a035a32e",
   "metadata": {
    "execution": {
     "iopub.execute_input": "2024-01-31T13:04:48.839123Z",
     "iopub.status.busy": "2024-01-31T13:04:48.838431Z",
     "iopub.status.idle": "2024-01-31T13:04:48.846370Z",
     "shell.execute_reply": "2024-01-31T13:04:48.845586Z"
    },
    "papermill": {
     "duration": 0.022291,
     "end_time": "2024-01-31T13:04:48.848188",
     "exception": false,
     "start_time": "2024-01-31T13:04:48.825897",
     "status": "completed"
    },
    "tags": []
   },
   "outputs": [
    {
     "data": {
      "application/javascript": [
       "parent.postMessage({\"jupyterEvent\": \"custom.exercise_interaction\", \"data\": {\"outcomeType\": 1, \"valueTowardsCompletion\": 0.5, \"interactionType\": 1, \"questionType\": 1, \"questionId\": \"3.1_CardinalityA\", \"learnToolsVersion\": \"0.3.4\", \"failureMessage\": \"\", \"exceptionClass\": \"\", \"trace\": \"\"}}, \"*\")"
      ],
      "text/plain": [
       "<IPython.core.display.Javascript object>"
      ]
     },
     "metadata": {},
     "output_type": "display_data"
    },
    {
     "data": {
      "text/markdown": [
       "<span style=\"color:#33cc33\">Correct</span>"
      ],
      "text/plain": [
       "Correct"
      ]
     },
     "metadata": {},
     "output_type": "display_data"
    }
   ],
   "source": [
    "# Fill in the line below: How many categorical variables in the training data\n",
    "# have cardinality greater than 10?\n",
    "high_cardinality_numcols = 3\n",
    "\n",
    "# Fill in the line below: How many columns are needed to one-hot encode the \n",
    "# 'Neighborhood' variable in the training data?\n",
    "num_cols_neighborhood = 25\n",
    "\n",
    "# Check your answers\n",
    "step_3.a.check()"
   ]
  },
  {
   "cell_type": "code",
   "execution_count": 17,
   "id": "b7966253",
   "metadata": {
    "execution": {
     "iopub.execute_input": "2024-01-31T13:04:48.872654Z",
     "iopub.status.busy": "2024-01-31T13:04:48.872058Z",
     "iopub.status.idle": "2024-01-31T13:04:48.876480Z",
     "shell.execute_reply": "2024-01-31T13:04:48.875395Z"
    },
    "papermill": {
     "duration": 0.019354,
     "end_time": "2024-01-31T13:04:48.878770",
     "exception": false,
     "start_time": "2024-01-31T13:04:48.859416",
     "status": "completed"
    },
    "tags": []
   },
   "outputs": [],
   "source": [
    "# Lines below will give you a hint or solution code\n",
    "#step_3.a.hint()\n",
    "#step_3.a.solution()"
   ]
  },
  {
   "cell_type": "markdown",
   "id": "55730c74",
   "metadata": {
    "papermill": {
     "duration": 0.010555,
     "end_time": "2024-01-31T13:04:48.900989",
     "exception": false,
     "start_time": "2024-01-31T13:04:48.890434",
     "status": "completed"
    },
    "tags": []
   },
   "source": [
    "### Part B\n",
    "\n",
    "For large datasets with many rows, one-hot encoding can greatly expand the size of the dataset.  For this reason, we typically will only one-hot encode columns with relatively low cardinality.  Then, high cardinality columns can either be dropped from the dataset, or we can use ordinal encoding.\n",
    "\n",
    "As an example, consider a dataset with 10,000 rows, and containing one categorical column with 100 unique entries.  \n",
    "- If this column is replaced with the corresponding one-hot encoding, how many entries are added to the dataset?  \n",
    "- If we instead replace the column with the ordinal encoding, how many entries are added?  \n",
    "\n",
    "Use your answers to fill in the lines below."
   ]
  },
  {
   "cell_type": "code",
   "execution_count": 18,
   "id": "2f0784a6",
   "metadata": {
    "execution": {
     "iopub.execute_input": "2024-01-31T13:04:48.923777Z",
     "iopub.status.busy": "2024-01-31T13:04:48.923365Z",
     "iopub.status.idle": "2024-01-31T13:04:48.931641Z",
     "shell.execute_reply": "2024-01-31T13:04:48.930825Z"
    },
    "papermill": {
     "duration": 0.022162,
     "end_time": "2024-01-31T13:04:48.933459",
     "exception": false,
     "start_time": "2024-01-31T13:04:48.911297",
     "status": "completed"
    },
    "tags": []
   },
   "outputs": [
    {
     "data": {
      "application/javascript": [
       "parent.postMessage({\"jupyterEvent\": \"custom.exercise_interaction\", \"data\": {\"outcomeType\": 1, \"valueTowardsCompletion\": 0.5, \"interactionType\": 1, \"questionType\": 1, \"questionId\": \"3.2_CardinalityB\", \"learnToolsVersion\": \"0.3.4\", \"failureMessage\": \"\", \"exceptionClass\": \"\", \"trace\": \"\"}}, \"*\")"
      ],
      "text/plain": [
       "<IPython.core.display.Javascript object>"
      ]
     },
     "metadata": {},
     "output_type": "display_data"
    },
    {
     "data": {
      "text/markdown": [
       "<span style=\"color:#33cc33\">Correct</span>"
      ],
      "text/plain": [
       "Correct"
      ]
     },
     "metadata": {},
     "output_type": "display_data"
    }
   ],
   "source": [
    "# Fill in the line below: How many entries are added to the dataset by \n",
    "# replacing the column with a one-hot encoding?\n",
    "OH_entries_added = 10000 * 100 - 10000\n",
    "\n",
    "# Fill in the line below: How many entries are added to the dataset by\n",
    "# replacing the column with an ordinal encoding?\n",
    "label_entries_added = 0\n",
    "\n",
    "# Check your answers\n",
    "step_3.b.check()"
   ]
  },
  {
   "cell_type": "code",
   "execution_count": 19,
   "id": "9774095c",
   "metadata": {
    "execution": {
     "iopub.execute_input": "2024-01-31T13:04:48.957212Z",
     "iopub.status.busy": "2024-01-31T13:04:48.956817Z",
     "iopub.status.idle": "2024-01-31T13:04:48.961531Z",
     "shell.execute_reply": "2024-01-31T13:04:48.960006Z"
    },
    "papermill": {
     "duration": 0.018768,
     "end_time": "2024-01-31T13:04:48.963559",
     "exception": false,
     "start_time": "2024-01-31T13:04:48.944791",
     "status": "completed"
    },
    "tags": []
   },
   "outputs": [],
   "source": [
    "# Lines below will give you a hint or solution code\n",
    "#step_3.b.hint()\n",
    "#step_3.b.solution()"
   ]
  },
  {
   "cell_type": "markdown",
   "id": "9676f02c",
   "metadata": {
    "papermill": {
     "duration": 0.010428,
     "end_time": "2024-01-31T13:04:48.986763",
     "exception": false,
     "start_time": "2024-01-31T13:04:48.976335",
     "status": "completed"
    },
    "tags": []
   },
   "source": [
    "Next, you'll experiment with one-hot encoding.  But, instead of encoding all of the categorical variables in the dataset, you'll only create a one-hot encoding for columns with cardinality less than 10.\n",
    "\n",
    "Run the code cell below without changes to set `low_cardinality_cols` to a Python list containing the columns that will be one-hot encoded.  Likewise, `high_cardinality_cols` contains a list of categorical columns that will be dropped from the dataset."
   ]
  },
  {
   "cell_type": "code",
   "execution_count": 20,
   "id": "c9f24a8f",
   "metadata": {
    "execution": {
     "iopub.execute_input": "2024-01-31T13:04:49.010522Z",
     "iopub.status.busy": "2024-01-31T13:04:49.009506Z",
     "iopub.status.idle": "2024-01-31T13:04:49.019023Z",
     "shell.execute_reply": "2024-01-31T13:04:49.018059Z"
    },
    "papermill": {
     "duration": 0.023268,
     "end_time": "2024-01-31T13:04:49.020888",
     "exception": false,
     "start_time": "2024-01-31T13:04:48.997620",
     "status": "completed"
    },
    "tags": []
   },
   "outputs": [
    {
     "name": "stdout",
     "output_type": "stream",
     "text": [
      "Categorical columns that will be one-hot encoded: ['MSZoning', 'Street', 'LotShape', 'LandContour', 'Utilities', 'LotConfig', 'LandSlope', 'Condition1', 'Condition2', 'BldgType', 'HouseStyle', 'RoofStyle', 'RoofMatl', 'ExterQual', 'ExterCond', 'Foundation', 'Heating', 'HeatingQC', 'CentralAir', 'KitchenQual', 'Functional', 'PavedDrive', 'SaleType', 'SaleCondition']\n",
      "\n",
      "Categorical columns that will be dropped from the dataset: ['Exterior2nd', 'Neighborhood', 'Exterior1st']\n"
     ]
    }
   ],
   "source": [
    "# Columns that will be one-hot encoded\n",
    "low_cardinality_cols = [col for col in object_cols if X_train[col].nunique() < 10]\n",
    "\n",
    "# Columns that will be dropped from the dataset\n",
    "high_cardinality_cols = list(set(object_cols)-set(low_cardinality_cols))\n",
    "\n",
    "print('Categorical columns that will be one-hot encoded:', low_cardinality_cols)\n",
    "print('\\nCategorical columns that will be dropped from the dataset:', high_cardinality_cols)"
   ]
  },
  {
   "cell_type": "markdown",
   "id": "79be6365",
   "metadata": {
    "papermill": {
     "duration": 0.010784,
     "end_time": "2024-01-31T13:04:49.042993",
     "exception": false,
     "start_time": "2024-01-31T13:04:49.032209",
     "status": "completed"
    },
    "tags": []
   },
   "source": [
    "# Step 4: One-hot encoding\n",
    "\n",
    "Use the next code cell to one-hot encode the data in `X_train` and `X_valid`.  Set the preprocessed DataFrames to `OH_X_train` and `OH_X_valid`, respectively.  \n",
    "- The full list of categorical columns in the dataset can be found in the Python list `object_cols`.\n",
    "- You should only one-hot encode the categorical columns in `low_cardinality_cols`.  All other categorical columns should be dropped from the dataset. "
   ]
  },
  {
   "cell_type": "code",
   "execution_count": 21,
   "id": "be006497",
   "metadata": {
    "execution": {
     "iopub.execute_input": "2024-01-31T13:04:49.067028Z",
     "iopub.status.busy": "2024-01-31T13:04:49.066112Z",
     "iopub.status.idle": "2024-01-31T13:04:49.096720Z",
     "shell.execute_reply": "2024-01-31T13:04:49.095291Z"
    },
    "papermill": {
     "duration": 0.045693,
     "end_time": "2024-01-31T13:04:49.099343",
     "exception": false,
     "start_time": "2024-01-31T13:04:49.053650",
     "status": "completed"
    },
    "tags": []
   },
   "outputs": [],
   "source": [
    "# Get NaN columns \n",
    "missing_cols = [col for col in X_test.columns if X_test[col].isnull().any()]\n",
    "for col in missing_cols:\n",
    "    if X_test[col].dtype == \"object\":\n",
    "#         Get the most frequent value\n",
    "        most_frequent = max(set(list(X_test[col])), key=list(X_test[col]).count)\n",
    "        X_test[col] = X_test[col].fillna(most_frequent)\n",
    "    else:\n",
    "#         If the column is not type \"object\" hence \"numeric\" fill the null value with the median of the column\n",
    "        X_test[col] = X_test[col].fillna(X_test[col].median())"
   ]
  },
  {
   "cell_type": "code",
   "execution_count": 22,
   "id": "e57bc60b",
   "metadata": {
    "execution": {
     "iopub.execute_input": "2024-01-31T13:04:49.124394Z",
     "iopub.status.busy": "2024-01-31T13:04:49.124012Z",
     "iopub.status.idle": "2024-01-31T13:04:49.168396Z",
     "shell.execute_reply": "2024-01-31T13:04:49.167111Z"
    },
    "papermill": {
     "duration": 0.059779,
     "end_time": "2024-01-31T13:04:49.170839",
     "exception": false,
     "start_time": "2024-01-31T13:04:49.111060",
     "status": "completed"
    },
    "tags": []
   },
   "outputs": [
    {
     "name": "stdout",
     "output_type": "stream",
     "text": [
      "num_X_train shape: (1168, 33)\n",
      "OH_cols_train shape: (1168, 122)\n"
     ]
    },
    {
     "data": {
      "application/javascript": [
       "parent.postMessage({\"jupyterEvent\": \"custom.exercise_interaction\", \"data\": {\"outcomeType\": 1, \"valueTowardsCompletion\": 0.5, \"interactionType\": 1, \"questionType\": 2, \"questionId\": \"4_OneHot\", \"learnToolsVersion\": \"0.3.4\", \"failureMessage\": \"\", \"exceptionClass\": \"\", \"trace\": \"\"}}, \"*\")"
      ],
      "text/plain": [
       "<IPython.core.display.Javascript object>"
      ]
     },
     "metadata": {},
     "output_type": "display_data"
    },
    {
     "data": {
      "text/markdown": [
       "<span style=\"color:#33cc33\">Correct</span>"
      ],
      "text/plain": [
       "Correct"
      ]
     },
     "metadata": {},
     "output_type": "display_data"
    }
   ],
   "source": [
    "from sklearn.preprocessing import OneHotEncoder\n",
    "\n",
    "# Apply one-hot encoder to each column with categorical data\n",
    "OH_encoder = OneHotEncoder(handle_unknown='ignore', sparse_output=False)\n",
    "OH_cols_train = pd.DataFrame(OH_encoder.fit_transform(X_train[low_cardinality_cols]))\n",
    "OH_cols_valid = pd.DataFrame(OH_encoder.transform(X_valid[low_cardinality_cols]))\n",
    "\n",
    "# One-hot encoding removed index; put it back\n",
    "OH_cols_train.index = X_train.index\n",
    "OH_cols_valid.index = X_valid.index\n",
    "\n",
    "# Remove categorical columns (will replace with one-hot encoding)\n",
    "num_X_train = X_train.drop(object_cols, axis=1)\n",
    "num_X_valid = X_valid.drop(object_cols, axis=1)\n",
    "\n",
    "# Print shapes for debugging\n",
    "print(\"num_X_train shape:\", num_X_train.shape)\n",
    "print(\"OH_cols_train shape:\", OH_cols_train.shape)\n",
    "\n",
    "# Add one-hot encoded columns to numerical features\n",
    "OH_X_train = pd.concat([num_X_train, OH_cols_train], axis=1)\n",
    "OH_X_valid = pd.concat([num_X_valid, OH_cols_valid], axis=1)\n",
    "\n",
    "# Ensure all columns have string type\n",
    "OH_X_train.columns = OH_X_train.columns.astype(str)\n",
    "OH_X_valid.columns = OH_X_valid.columns.astype(str)\n",
    "\n",
    "# Check your answer\n",
    "step_4.check()"
   ]
  },
  {
   "cell_type": "code",
   "execution_count": 23,
   "id": "8306e50e",
   "metadata": {
    "execution": {
     "iopub.execute_input": "2024-01-31T13:04:49.194940Z",
     "iopub.status.busy": "2024-01-31T13:04:49.194566Z",
     "iopub.status.idle": "2024-01-31T13:04:49.199099Z",
     "shell.execute_reply": "2024-01-31T13:04:49.197955Z"
    },
    "papermill": {
     "duration": 0.018817,
     "end_time": "2024-01-31T13:04:49.201002",
     "exception": false,
     "start_time": "2024-01-31T13:04:49.182185",
     "status": "completed"
    },
    "tags": []
   },
   "outputs": [],
   "source": [
    "# Lines below will give you a hint or solution code\n",
    "#step_4.hint()\n",
    "# step_4.solution()"
   ]
  },
  {
   "cell_type": "markdown",
   "id": "35eb53a6",
   "metadata": {
    "papermill": {
     "duration": 0.011084,
     "end_time": "2024-01-31T13:04:49.223385",
     "exception": false,
     "start_time": "2024-01-31T13:04:49.212301",
     "status": "completed"
    },
    "tags": []
   },
   "source": [
    "Run the next code cell to get the MAE for this approach."
   ]
  },
  {
   "cell_type": "code",
   "execution_count": 24,
   "id": "b41e4741",
   "metadata": {
    "execution": {
     "iopub.execute_input": "2024-01-31T13:04:49.248506Z",
     "iopub.status.busy": "2024-01-31T13:04:49.247930Z",
     "iopub.status.idle": "2024-01-31T13:04:50.796882Z",
     "shell.execute_reply": "2024-01-31T13:04:50.796032Z"
    },
    "papermill": {
     "duration": 1.563598,
     "end_time": "2024-01-31T13:04:50.798504",
     "exception": false,
     "start_time": "2024-01-31T13:04:49.234906",
     "status": "completed"
    },
    "tags": []
   },
   "outputs": [
    {
     "name": "stdout",
     "output_type": "stream",
     "text": [
      "MAE from Approach 3 (One-Hot Encoding):\n",
      "17525.345719178084\n"
     ]
    }
   ],
   "source": [
    "print(\"MAE from Approach 3 (One-Hot Encoding):\") \n",
    "print(score_dataset(OH_X_train, OH_X_valid, y_train, y_valid))"
   ]
  },
  {
   "cell_type": "markdown",
   "id": "5041806f",
   "metadata": {
    "papermill": {
     "duration": 0.010526,
     "end_time": "2024-01-31T13:04:50.821165",
     "exception": false,
     "start_time": "2024-01-31T13:04:50.810639",
     "status": "completed"
    },
    "tags": []
   },
   "source": [
    "# Generate test predictions and submit your results\n",
    "\n",
    "After you complete Step 4, if you'd like to use what you've learned to submit your results to the leaderboard, you'll need to preprocess the test data before generating predictions.\n",
    "\n",
    "**This step is completely optional, and you do not need to submit results to the leaderboard to successfully complete the exercise.**\n",
    "\n",
    "Check out the previous exercise if you need help with remembering how to [join the competition](https://www.kaggle.com/c/home-data-for-ml-course) or save your results to CSV.  Once you have generated a file with your results, follow the instructions below:\n",
    "1. Begin by clicking on the **Save Version** button in the top right corner of the window.  This will generate a pop-up window.  \n",
    "2. Ensure that the **Save and Run All** option is selected, and then click on the **Save** button.\n",
    "3. This generates a window in the bottom left corner of the notebook.  After it has finished running, click on the number to the right of the **Save Version** button.  This pulls up a list of versions on the right of the screen.  Click on the ellipsis **(...)** to the right of the most recent version, and select **Open in Viewer**.  This brings you into view mode of the same page. You will need to scroll down to get back to these instructions.\n",
    "4. Click on the **Data** tab near the top of the screen.  Then, click on the file you would like to submit, and click on the **Submit** button to submit your results to the leaderboard.\n",
    "\n",
    "You have now successfully submitted to the competition!\n",
    "\n",
    "If you want to keep working to improve your performance, select the **Edit** button in the top right of the screen. Then you can change your code and repeat the process. There's a lot of room to improve, and you will climb up the leaderboard as you work.\n"
   ]
  },
  {
   "cell_type": "code",
   "execution_count": 25,
   "id": "fb34b625",
   "metadata": {
    "execution": {
     "iopub.execute_input": "2024-01-31T13:04:50.845946Z",
     "iopub.status.busy": "2024-01-31T13:04:50.845335Z",
     "iopub.status.idle": "2024-01-31T13:04:52.351298Z",
     "shell.execute_reply": "2024-01-31T13:04:52.350362Z"
    },
    "papermill": {
     "duration": 1.521396,
     "end_time": "2024-01-31T13:04:52.353787",
     "exception": false,
     "start_time": "2024-01-31T13:04:50.832391",
     "status": "completed"
    },
    "tags": []
   },
   "outputs": [],
   "source": [
    "# Define and fit model\n",
    "model = RandomForestRegressor(n_estimators=100, random_state=0)\n",
    "model.fit(OH_X_train, y_train)\n",
    "\n",
    "# Get validation predictions and MAE\n",
    "preds_valid = model.predict(OH_X_valid)"
   ]
  },
  {
   "cell_type": "code",
   "execution_count": null,
   "id": "54605df5",
   "metadata": {
    "papermill": {
     "duration": 0.010758,
     "end_time": "2024-01-31T13:04:52.375903",
     "exception": false,
     "start_time": "2024-01-31T13:04:52.365145",
     "status": "completed"
    },
    "tags": []
   },
   "outputs": [],
   "source": []
  },
  {
   "cell_type": "code",
   "execution_count": 26,
   "id": "6c937ea6",
   "metadata": {
    "execution": {
     "iopub.execute_input": "2024-01-31T13:04:52.399917Z",
     "iopub.status.busy": "2024-01-31T13:04:52.399258Z",
     "iopub.status.idle": "2024-01-31T13:04:52.450418Z",
     "shell.execute_reply": "2024-01-31T13:04:52.449088Z"
    },
    "papermill": {
     "duration": 0.066069,
     "end_time": "2024-01-31T13:04:52.452955",
     "exception": false,
     "start_time": "2024-01-31T13:04:52.386886",
     "status": "completed"
    },
    "tags": []
   },
   "outputs": [],
   "source": [
    "# (Optional) Your code here\n",
    "# Preprocess test data\n",
    "\n",
    "# Apply OH encoder to column with categorical data in test data\n",
    "OH_cols_test = pd.DataFrame(OH_encoder.transform(X_test[low_cardinality_cols]))\n",
    "\n",
    "# OH encoding removed index: put it back\n",
    "OH_cols_test.index = X_test.index\n",
    "\n",
    "# Remove categorical column (will replace with OH encoding)\n",
    "num_X_test = X_test.drop(object_cols, axis = 1)\n",
    "\n",
    "# Add OH encoded to numerical features\n",
    "OH_X_test = pd.concat([num_X_test, OH_cols_test], axis = 1)\n",
    "\n",
    "# Ensure all columns have string type\n",
    "OH_X_test.columns = OH_X_test.columns.astype(str)\n",
    "\n",
    "# Get test prediction\n",
    "preds_test = model.predict(OH_X_test)"
   ]
  },
  {
   "cell_type": "code",
   "execution_count": 27,
   "id": "be808901",
   "metadata": {
    "execution": {
     "iopub.execute_input": "2024-01-31T13:04:52.476980Z",
     "iopub.status.busy": "2024-01-31T13:04:52.476608Z",
     "iopub.status.idle": "2024-01-31T13:04:52.487104Z",
     "shell.execute_reply": "2024-01-31T13:04:52.486022Z"
    },
    "papermill": {
     "duration": 0.025432,
     "end_time": "2024-01-31T13:04:52.489843",
     "exception": false,
     "start_time": "2024-01-31T13:04:52.464411",
     "status": "completed"
    },
    "tags": []
   },
   "outputs": [],
   "source": [
    "# Save test predictions to file\n",
    "output = pd.DataFrame({'Id': X_test.index,\n",
    "                       'SalePrice': preds_test})\n",
    "output.to_csv('submission.csv', index=False)"
   ]
  },
  {
   "cell_type": "markdown",
   "id": "fe493041",
   "metadata": {
    "papermill": {
     "duration": 0.011046,
     "end_time": "2024-01-31T13:04:52.512469",
     "exception": false,
     "start_time": "2024-01-31T13:04:52.501423",
     "status": "completed"
    },
    "tags": []
   },
   "source": [
    "# Keep going\n",
    "\n",
    "With missing value handling and categorical encoding, your modeling process is getting complex. This complexity gets worse when you want to save your model to use in the future. The key to managing this complexity is something called **pipelines**. \n",
    "\n",
    "**[Learn to use pipelines](https://www.kaggle.com/alexisbcook/pipelines)** to preprocess datasets with categorical variables, missing values and any other messiness your data throws at you."
   ]
  },
  {
   "cell_type": "markdown",
   "id": "901d7a46",
   "metadata": {
    "papermill": {
     "duration": 0.010697,
     "end_time": "2024-01-31T13:04:52.534339",
     "exception": false,
     "start_time": "2024-01-31T13:04:52.523642",
     "status": "completed"
    },
    "tags": []
   },
   "source": [
    "---\n",
    "\n",
    "\n",
    "\n",
    "\n",
    "*Have questions or comments? Visit the [course discussion forum](https://www.kaggle.com/learn/intermediate-machine-learning/discussion) to chat with other learners.*"
   ]
  }
 ],
 "metadata": {
  "kaggle": {
   "accelerator": "none",
   "dataSources": [
    {
     "databundleVersionId": 111096,
     "sourceId": 10211,
     "sourceType": "competition"
    }
   ],
   "isGpuEnabled": false,
   "isInternetEnabled": false,
   "language": "python",
   "sourceType": "notebook"
  },
  "kernelspec": {
   "display_name": "Python 3",
   "language": "python",
   "name": "python3"
  },
  "language_info": {
   "codemirror_mode": {
    "name": "ipython",
    "version": 3
   },
   "file_extension": ".py",
   "mimetype": "text/x-python",
   "name": "python",
   "nbconvert_exporter": "python",
   "pygments_lexer": "ipython3",
   "version": "3.10.13"
  },
  "papermill": {
   "default_parameters": {},
   "duration": 12.837098,
   "end_time": "2024-01-31T13:04:53.166325",
   "environment_variables": {},
   "exception": null,
   "input_path": "__notebook__.ipynb",
   "output_path": "__notebook__.ipynb",
   "parameters": {},
   "start_time": "2024-01-31T13:04:40.329227",
   "version": "2.5.0"
  }
 },
 "nbformat": 4,
 "nbformat_minor": 5
}
