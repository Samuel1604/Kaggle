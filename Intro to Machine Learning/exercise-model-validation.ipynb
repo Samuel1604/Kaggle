{
 "cells": [
  {
   "cell_type": "markdown",
   "id": "4f5b8699",
   "metadata": {
    "papermill": {
     "duration": 0.006576,
     "end_time": "2024-03-20T17:51:53.092806",
     "exception": false,
     "start_time": "2024-03-20T17:51:53.086230",
     "status": "completed"
    },
    "tags": []
   },
   "source": [
    "**This notebook is an exercise in the [Introduction to Machine Learning](https://www.kaggle.com/learn/intro-to-machine-learning) course.  You can reference the tutorial at [this link](https://www.kaggle.com/dansbecker/model-validation).**\n",
    "\n",
    "---\n"
   ]
  },
  {
   "cell_type": "markdown",
   "id": "0193b2b1",
   "metadata": {
    "papermill": {
     "duration": 0.005775,
     "end_time": "2024-03-20T17:51:53.105459",
     "exception": false,
     "start_time": "2024-03-20T17:51:53.099684",
     "status": "completed"
    },
    "tags": []
   },
   "source": [
    "## Recap\n",
    "You've built a model. In this exercise you will test how good your model is.\n",
    "\n",
    "Run the cell below to set up your coding environment where the previous exercise left off."
   ]
  },
  {
   "cell_type": "code",
   "execution_count": 1,
   "id": "8823140c",
   "metadata": {
    "execution": {
     "iopub.execute_input": "2024-03-20T17:51:53.120282Z",
     "iopub.status.busy": "2024-03-20T17:51:53.119484Z",
     "iopub.status.idle": "2024-03-20T17:51:56.158162Z",
     "shell.execute_reply": "2024-03-20T17:51:56.156502Z"
    },
    "papermill": {
     "duration": 3.049522,
     "end_time": "2024-03-20T17:51:56.161006",
     "exception": false,
     "start_time": "2024-03-20T17:51:53.111484",
     "status": "completed"
    },
    "tags": []
   },
   "outputs": [
    {
     "name": "stdout",
     "output_type": "stream",
     "text": [
      "First in-sample predictions: [208500. 181500. 223500. 140000. 250000.]\n",
      "Actual target values for those homes: [208500, 181500, 223500, 140000, 250000]\n",
      "Setup Complete\n"
     ]
    }
   ],
   "source": [
    "# Code you have previously used to load data\n",
    "import pandas as pd\n",
    "from sklearn.tree import DecisionTreeRegressor\n",
    "\n",
    "# Path of the file to read\n",
    "iowa_file_path = '../input/home-data-for-ml-course/train.csv'\n",
    "\n",
    "home_data = pd.read_csv(iowa_file_path)\n",
    "y = home_data.SalePrice\n",
    "feature_columns = ['LotArea', 'YearBuilt', '1stFlrSF', '2ndFlrSF', 'FullBath', 'BedroomAbvGr', 'TotRmsAbvGrd']\n",
    "X = home_data[feature_columns]\n",
    "\n",
    "# Specify Model\n",
    "iowa_model = DecisionTreeRegressor()\n",
    "# Fit Model\n",
    "iowa_model.fit(X, y)\n",
    "\n",
    "print(\"First in-sample predictions:\", iowa_model.predict(X.head()))\n",
    "print(\"Actual target values for those homes:\", y.head().tolist())\n",
    "\n",
    "# Set up code checking\n",
    "from learntools.core import binder\n",
    "binder.bind(globals())\n",
    "from learntools.machine_learning.ex4 import *\n",
    "print(\"Setup Complete\")"
   ]
  },
  {
   "cell_type": "markdown",
   "id": "469a21cb",
   "metadata": {
    "papermill": {
     "duration": 0.005959,
     "end_time": "2024-03-20T17:51:56.173497",
     "exception": false,
     "start_time": "2024-03-20T17:51:56.167538",
     "status": "completed"
    },
    "tags": []
   },
   "source": [
    "# Exercises\n",
    "\n",
    "## Step 1: Split Your Data\n",
    "Use the `train_test_split` function to split up your data.\n",
    "\n",
    "Give it the argument `random_state=1` so the `check` functions know what to expect when verifying your code.\n",
    "\n",
    "Recall, your features are loaded in the DataFrame **X** and your target is loaded in **y**.\n"
   ]
  },
  {
   "cell_type": "code",
   "execution_count": 2,
   "id": "a242d55b",
   "metadata": {
    "execution": {
     "iopub.execute_input": "2024-03-20T17:51:56.188521Z",
     "iopub.status.busy": "2024-03-20T17:51:56.187968Z",
     "iopub.status.idle": "2024-03-20T17:51:56.210719Z",
     "shell.execute_reply": "2024-03-20T17:51:56.209617Z"
    },
    "papermill": {
     "duration": 0.033536,
     "end_time": "2024-03-20T17:51:56.213486",
     "exception": false,
     "start_time": "2024-03-20T17:51:56.179950",
     "status": "completed"
    },
    "tags": []
   },
   "outputs": [
    {
     "data": {
      "application/javascript": [
       "parent.postMessage({\"jupyterEvent\": \"custom.exercise_interaction\", \"data\": {\"outcomeType\": 1, \"valueTowardsCompletion\": 0.25, \"interactionType\": 1, \"questionType\": 2, \"questionId\": \"1_SplitData\", \"learnToolsVersion\": \"0.3.4\", \"failureMessage\": \"\", \"exceptionClass\": \"\", \"trace\": \"\"}}, \"*\")"
      ],
      "text/plain": [
       "<IPython.core.display.Javascript object>"
      ]
     },
     "metadata": {},
     "output_type": "display_data"
    },
    {
     "data": {
      "text/markdown": [
       "<span style=\"color:#33cc33\">Correct</span>"
      ],
      "text/plain": [
       "Correct"
      ]
     },
     "metadata": {},
     "output_type": "display_data"
    }
   ],
   "source": [
    "# Import the train_test_split function and uncomment\n",
    "from sklearn.model_selection import train_test_split\n",
    "\n",
    "# fill in and uncomment\n",
    "train_X, val_X, train_y, val_y = train_test_split(X, y, random_state=1)\n",
    "\n",
    "# Check your answer\n",
    "step_1.check()"
   ]
  },
  {
   "cell_type": "code",
   "execution_count": 3,
   "id": "f3d12ab8",
   "metadata": {
    "execution": {
     "iopub.execute_input": "2024-03-20T17:51:56.230967Z",
     "iopub.status.busy": "2024-03-20T17:51:56.230028Z",
     "iopub.status.idle": "2024-03-20T17:51:56.234494Z",
     "shell.execute_reply": "2024-03-20T17:51:56.233560Z"
    },
    "papermill": {
     "duration": 0.016243,
     "end_time": "2024-03-20T17:51:56.237207",
     "exception": false,
     "start_time": "2024-03-20T17:51:56.220964",
     "status": "completed"
    },
    "tags": []
   },
   "outputs": [],
   "source": [
    "# The lines below will show you a hint or the solution.\n",
    "# step_1.hint() \n",
    "# step_1.solution()\n"
   ]
  },
  {
   "cell_type": "markdown",
   "id": "c55713d8",
   "metadata": {
    "papermill": {
     "duration": 0.006642,
     "end_time": "2024-03-20T17:51:56.250967",
     "exception": false,
     "start_time": "2024-03-20T17:51:56.244325",
     "status": "completed"
    },
    "tags": []
   },
   "source": [
    "## Step 2: Specify and Fit the Model\n",
    "\n",
    "Create a `DecisionTreeRegressor` model and fit it to the relevant data.\n",
    "Set `random_state` to 1 again when creating the model."
   ]
  },
  {
   "cell_type": "code",
   "execution_count": 4,
   "id": "5ac8a894",
   "metadata": {
    "execution": {
     "iopub.execute_input": "2024-03-20T17:51:56.267419Z",
     "iopub.status.busy": "2024-03-20T17:51:56.266648Z",
     "iopub.status.idle": "2024-03-20T17:51:56.297356Z",
     "shell.execute_reply": "2024-03-20T17:51:56.296202Z"
    },
    "papermill": {
     "duration": 0.042062,
     "end_time": "2024-03-20T17:51:56.300184",
     "exception": false,
     "start_time": "2024-03-20T17:51:56.258122",
     "status": "completed"
    },
    "tags": []
   },
   "outputs": [
    {
     "name": "stdout",
     "output_type": "stream",
     "text": [
      "[186500. 184000. 130000.  92000. 164500. 220000. 335000. 144152. 215000.\n",
      " 262000.]\n",
      "[186500. 184000. 130000.  92000. 164500. 220000. 335000. 144152. 215000.\n",
      " 262000.]\n"
     ]
    },
    {
     "data": {
      "application/javascript": [
       "parent.postMessage({\"jupyterEvent\": \"custom.exercise_interaction\", \"data\": {\"outcomeType\": 1, \"valueTowardsCompletion\": 0.25, \"interactionType\": 1, \"questionType\": 2, \"questionId\": \"2_FitModelWithTrain\", \"learnToolsVersion\": \"0.3.4\", \"failureMessage\": \"\", \"exceptionClass\": \"\", \"trace\": \"\"}}, \"*\")"
      ],
      "text/plain": [
       "<IPython.core.display.Javascript object>"
      ]
     },
     "metadata": {},
     "output_type": "display_data"
    },
    {
     "data": {
      "text/markdown": [
       "<span style=\"color:#33cc33\">Correct</span>"
      ],
      "text/plain": [
       "Correct"
      ]
     },
     "metadata": {},
     "output_type": "display_data"
    }
   ],
   "source": [
    "# You imported DecisionTreeRegressor in your last exercise\n",
    "# and that code has been copied to the setup code above. So, no need to\n",
    "# import it again\n",
    "\n",
    "# Specify the model\n",
    "iowa_model = DecisionTreeRegressor(random_state=1)\n",
    "\n",
    "# Fit iowa_model with the training data.\n",
    "iowa_model.fit(train_X, train_y)\n",
    "\n",
    "# Check your answer\n",
    "step_2.check()"
   ]
  },
  {
   "cell_type": "code",
   "execution_count": 5,
   "id": "dcd9d57f",
   "metadata": {
    "execution": {
     "iopub.execute_input": "2024-03-20T17:51:56.317634Z",
     "iopub.status.busy": "2024-03-20T17:51:56.316974Z",
     "iopub.status.idle": "2024-03-20T17:51:56.321088Z",
     "shell.execute_reply": "2024-03-20T17:51:56.320236Z"
    },
    "papermill": {
     "duration": 0.015914,
     "end_time": "2024-03-20T17:51:56.323524",
     "exception": false,
     "start_time": "2024-03-20T17:51:56.307610",
     "status": "completed"
    },
    "tags": []
   },
   "outputs": [],
   "source": [
    "# step_2.hint()\n",
    "# step_2.solution()"
   ]
  },
  {
   "cell_type": "markdown",
   "id": "fd92e498",
   "metadata": {
    "papermill": {
     "duration": 0.007119,
     "end_time": "2024-03-20T17:51:56.338324",
     "exception": false,
     "start_time": "2024-03-20T17:51:56.331205",
     "status": "completed"
    },
    "tags": []
   },
   "source": [
    "## Step 3: Make Predictions with Validation data\n"
   ]
  },
  {
   "cell_type": "code",
   "execution_count": 6,
   "id": "9c18ec90",
   "metadata": {
    "execution": {
     "iopub.execute_input": "2024-03-20T17:51:56.355424Z",
     "iopub.status.busy": "2024-03-20T17:51:56.354716Z",
     "iopub.status.idle": "2024-03-20T17:51:56.366376Z",
     "shell.execute_reply": "2024-03-20T17:51:56.365492Z"
    },
    "papermill": {
     "duration": 0.023013,
     "end_time": "2024-03-20T17:51:56.368802",
     "exception": false,
     "start_time": "2024-03-20T17:51:56.345789",
     "status": "completed"
    },
    "tags": []
   },
   "outputs": [
    {
     "data": {
      "application/javascript": [
       "parent.postMessage({\"jupyterEvent\": \"custom.exercise_interaction\", \"data\": {\"outcomeType\": 1, \"valueTowardsCompletion\": 0.25, \"interactionType\": 1, \"questionType\": 2, \"questionId\": \"3_ValPreds\", \"learnToolsVersion\": \"0.3.4\", \"failureMessage\": \"\", \"exceptionClass\": \"\", \"trace\": \"\"}}, \"*\")"
      ],
      "text/plain": [
       "<IPython.core.display.Javascript object>"
      ]
     },
     "metadata": {},
     "output_type": "display_data"
    },
    {
     "data": {
      "text/markdown": [
       "<span style=\"color:#33cc33\">Correct</span>"
      ],
      "text/plain": [
       "Correct"
      ]
     },
     "metadata": {},
     "output_type": "display_data"
    }
   ],
   "source": [
    "# Predict with all validation observations\n",
    "val_predictions = iowa_model.predict(val_X)\n",
    "# Check your answer\n",
    "step_3.check()"
   ]
  },
  {
   "cell_type": "code",
   "execution_count": 7,
   "id": "018165f7",
   "metadata": {
    "execution": {
     "iopub.execute_input": "2024-03-20T17:51:56.387566Z",
     "iopub.status.busy": "2024-03-20T17:51:56.386769Z",
     "iopub.status.idle": "2024-03-20T17:51:56.390844Z",
     "shell.execute_reply": "2024-03-20T17:51:56.389976Z"
    },
    "papermill": {
     "duration": 0.016716,
     "end_time": "2024-03-20T17:51:56.393458",
     "exception": false,
     "start_time": "2024-03-20T17:51:56.376742",
     "status": "completed"
    },
    "tags": []
   },
   "outputs": [],
   "source": [
    "# step_3.hint()\n",
    "# step_3.solution()"
   ]
  },
  {
   "cell_type": "markdown",
   "id": "e535818b",
   "metadata": {
    "papermill": {
     "duration": 0.007546,
     "end_time": "2024-03-20T17:51:56.409101",
     "exception": false,
     "start_time": "2024-03-20T17:51:56.401555",
     "status": "completed"
    },
    "tags": []
   },
   "source": [
    "Inspect your predictions and actual values from validation data."
   ]
  },
  {
   "cell_type": "code",
   "execution_count": 8,
   "id": "a84ae7c0",
   "metadata": {
    "execution": {
     "iopub.execute_input": "2024-03-20T17:51:56.427399Z",
     "iopub.status.busy": "2024-03-20T17:51:56.426692Z",
     "iopub.status.idle": "2024-03-20T17:51:56.437002Z",
     "shell.execute_reply": "2024-03-20T17:51:56.435607Z"
    },
    "papermill": {
     "duration": 0.02313,
     "end_time": "2024-03-20T17:51:56.440255",
     "exception": false,
     "start_time": "2024-03-20T17:51:56.417125",
     "status": "completed"
    },
    "tags": []
   },
   "outputs": [
    {
     "name": "stdout",
     "output_type": "stream",
     "text": [
      "[186500. 184000. 130000.  92000. 164500.]\n",
      "258     231500\n",
      "267     179500\n",
      "288     122000\n",
      "649      84500\n",
      "1233    142000\n",
      "Name: SalePrice, dtype: int64\n"
     ]
    }
   ],
   "source": [
    "# print the top few validation predictions\n",
    "print(iowa_model.predict(val_X.head()))\n",
    "# print the top few actual prices from validation data\n",
    "print(val_y.head())"
   ]
  },
  {
   "cell_type": "markdown",
   "id": "a89bf23b",
   "metadata": {
    "papermill": {
     "duration": 0.007706,
     "end_time": "2024-03-20T17:51:56.456074",
     "exception": false,
     "start_time": "2024-03-20T17:51:56.448368",
     "status": "completed"
    },
    "tags": []
   },
   "source": [
    "What do you notice that is different from what you saw with in-sample predictions (which are printed after the top code cell in this page).\n",
    "\n",
    "Do you remember why validation predictions differ from in-sample (or training) predictions? This is an important idea from the last lesson.\n",
    "\n",
    "## Step 4: Calculate the Mean Absolute Error in Validation Data\n"
   ]
  },
  {
   "cell_type": "code",
   "execution_count": 9,
   "id": "ed077569",
   "metadata": {
    "execution": {
     "iopub.execute_input": "2024-03-20T17:51:56.474649Z",
     "iopub.status.busy": "2024-03-20T17:51:56.473610Z",
     "iopub.status.idle": "2024-03-20T17:51:56.484745Z",
     "shell.execute_reply": "2024-03-20T17:51:56.483545Z"
    },
    "papermill": {
     "duration": 0.02302,
     "end_time": "2024-03-20T17:51:56.487302",
     "exception": false,
     "start_time": "2024-03-20T17:51:56.464282",
     "status": "completed"
    },
    "tags": []
   },
   "outputs": [
    {
     "name": "stdout",
     "output_type": "stream",
     "text": [
      "29652.931506849316\n"
     ]
    },
    {
     "data": {
      "application/javascript": [
       "parent.postMessage({\"jupyterEvent\": \"custom.exercise_interaction\", \"data\": {\"outcomeType\": 1, \"valueTowardsCompletion\": 0.25, \"interactionType\": 1, \"questionType\": 1, \"questionId\": \"4_MAE\", \"learnToolsVersion\": \"0.3.4\", \"failureMessage\": \"\", \"exceptionClass\": \"\", \"trace\": \"\"}}, \"*\")"
      ],
      "text/plain": [
       "<IPython.core.display.Javascript object>"
      ]
     },
     "metadata": {},
     "output_type": "display_data"
    },
    {
     "data": {
      "text/markdown": [
       "<span style=\"color:#33cc33\">Correct</span>"
      ],
      "text/plain": [
       "Correct"
      ]
     },
     "metadata": {},
     "output_type": "display_data"
    }
   ],
   "source": [
    "from sklearn.metrics import mean_absolute_error\n",
    "val_mae = mean_absolute_error(val_y, val_predictions)\n",
    "\n",
    "# uncomment following line to see the validation_mae\n",
    "print(val_mae)\n",
    "\n",
    "# Check your answer\n",
    "step_4.check()"
   ]
  },
  {
   "cell_type": "code",
   "execution_count": 10,
   "id": "8b7bbfb5",
   "metadata": {
    "execution": {
     "iopub.execute_input": "2024-03-20T17:51:56.508109Z",
     "iopub.status.busy": "2024-03-20T17:51:56.507679Z",
     "iopub.status.idle": "2024-03-20T17:51:56.512248Z",
     "shell.execute_reply": "2024-03-20T17:51:56.511011Z"
    },
    "papermill": {
     "duration": 0.018129,
     "end_time": "2024-03-20T17:51:56.515378",
     "exception": false,
     "start_time": "2024-03-20T17:51:56.497249",
     "status": "completed"
    },
    "tags": []
   },
   "outputs": [],
   "source": [
    "# step_4.hint()\n",
    "# step_4.solution()"
   ]
  },
  {
   "cell_type": "markdown",
   "id": "98d54c66",
   "metadata": {
    "papermill": {
     "duration": 0.008058,
     "end_time": "2024-03-20T17:51:56.531909",
     "exception": false,
     "start_time": "2024-03-20T17:51:56.523851",
     "status": "completed"
    },
    "tags": []
   },
   "source": [
    "Is that MAE good?  There isn't a general rule for what values are good that applies across applications. But you'll see how to use (and improve) this number in the next step.\n",
    "\n",
    "# Keep Going\n",
    "\n",
    "You are ready for **[Underfitting and Overfitting](https://www.kaggle.com/dansbecker/underfitting-and-overfitting).**\n"
   ]
  },
  {
   "cell_type": "markdown",
   "id": "438d14f1",
   "metadata": {
    "papermill": {
     "duration": 0.008017,
     "end_time": "2024-03-20T17:51:56.548149",
     "exception": false,
     "start_time": "2024-03-20T17:51:56.540132",
     "status": "completed"
    },
    "tags": []
   },
   "source": [
    "---\n",
    "\n",
    "\n",
    "\n",
    "\n",
    "*Have questions or comments? Visit the [course discussion forum](https://www.kaggle.com/learn/intro-to-machine-learning/discussion) to chat with other learners.*"
   ]
  }
 ],
 "metadata": {
  "kaggle": {
   "accelerator": "none",
   "dataSources": [
    {
     "databundleVersionId": 111096,
     "sourceId": 10211,
     "sourceType": "competition"
    },
    {
     "datasetId": 11167,
     "sourceId": 15520,
     "sourceType": "datasetVersion"
    },
    {
     "datasetId": 2709,
     "sourceId": 38454,
     "sourceType": "datasetVersion"
    }
   ],
   "isGpuEnabled": false,
   "isInternetEnabled": false,
   "language": "python",
   "sourceType": "notebook"
  },
  "kernelspec": {
   "display_name": "Python 3",
   "language": "python",
   "name": "python3"
  },
  "language_info": {
   "codemirror_mode": {
    "name": "ipython",
    "version": 3
   },
   "file_extension": ".py",
   "mimetype": "text/x-python",
   "name": "python",
   "nbconvert_exporter": "python",
   "pygments_lexer": "ipython3",
   "version": "3.10.13"
  },
  "papermill": {
   "default_parameters": {},
   "duration": 7.738566,
   "end_time": "2024-03-20T17:51:57.480795",
   "environment_variables": {},
   "exception": null,
   "input_path": "__notebook__.ipynb",
   "output_path": "__notebook__.ipynb",
   "parameters": {},
   "start_time": "2024-03-20T17:51:49.742229",
   "version": "2.5.0"
  }
 },
 "nbformat": 4,
 "nbformat_minor": 5
}
