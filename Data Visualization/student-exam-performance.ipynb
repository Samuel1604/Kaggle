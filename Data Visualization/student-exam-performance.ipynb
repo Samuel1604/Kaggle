{
 "cells": [
  {
   "cell_type": "code",
   "execution_count": 1,
   "id": "52722c5c",
   "metadata": {
    "execution": {
     "iopub.execute_input": "2024-03-04T13:23:01.356811Z",
     "iopub.status.busy": "2024-03-04T13:23:01.356407Z",
     "iopub.status.idle": "2024-03-04T13:23:03.586800Z",
     "shell.execute_reply": "2024-03-04T13:23:03.585493Z"
    },
    "papermill": {
     "duration": 2.238289,
     "end_time": "2024-03-04T13:23:03.589450",
     "exception": false,
     "start_time": "2024-03-04T13:23:01.351161",
     "status": "completed"
    },
    "tags": []
   },
   "outputs": [
    {
     "name": "stdout",
     "output_type": "stream",
     "text": [
      "Setup Complete\n"
     ]
    }
   ],
   "source": [
    "import pandas as pd\n",
    "pd.plotting.register_matplotlib_converters()\n",
    "import matplotlib.pyplot as plt\n",
    "%matplotlib inline\n",
    "import seaborn as sns\n",
    "print(\"Setup Complete\")"
   ]
  },
  {
   "cell_type": "markdown",
   "id": "055eb463",
   "metadata": {
    "papermill": {
     "duration": 0.002301,
     "end_time": "2024-03-04T13:23:03.594701",
     "exception": false,
     "start_time": "2024-03-04T13:23:03.592400",
     "status": "completed"
    },
    "tags": []
   },
   "source": [
    "* "
   ]
  },
  {
   "cell_type": "code",
   "execution_count": 2,
   "id": "32387e30",
   "metadata": {
    "execution": {
     "iopub.execute_input": "2024-03-04T13:23:03.601650Z",
     "iopub.status.busy": "2024-03-04T13:23:03.601105Z",
     "iopub.status.idle": "2024-03-04T13:23:03.656658Z",
     "shell.execute_reply": "2024-03-04T13:23:03.655534Z"
    },
    "papermill": {
     "duration": 0.062138,
     "end_time": "2024-03-04T13:23:03.659318",
     "exception": false,
     "start_time": "2024-03-04T13:23:03.597180",
     "status": "completed"
    },
    "tags": []
   },
   "outputs": [
    {
     "data": {
      "text/html": [
       "<div>\n",
       "<style scoped>\n",
       "    .dataframe tbody tr th:only-of-type {\n",
       "        vertical-align: middle;\n",
       "    }\n",
       "\n",
       "    .dataframe tbody tr th {\n",
       "        vertical-align: top;\n",
       "    }\n",
       "\n",
       "    .dataframe thead th {\n",
       "        text-align: right;\n",
       "    }\n",
       "</style>\n",
       "<table border=\"1\" class=\"dataframe\">\n",
       "  <thead>\n",
       "    <tr style=\"text-align: right;\">\n",
       "      <th></th>\n",
       "      <th>Study Hours</th>\n",
       "      <th>Previous Exam Score</th>\n",
       "      <th>Pass/Fail</th>\n",
       "    </tr>\n",
       "  </thead>\n",
       "  <tbody>\n",
       "    <tr>\n",
       "      <th>count</th>\n",
       "      <td>500.000000</td>\n",
       "      <td>500.000000</td>\n",
       "      <td>500.000000</td>\n",
       "    </tr>\n",
       "    <tr>\n",
       "      <th>mean</th>\n",
       "      <td>5.487055</td>\n",
       "      <td>68.917084</td>\n",
       "      <td>0.368000</td>\n",
       "    </tr>\n",
       "    <tr>\n",
       "      <th>std</th>\n",
       "      <td>2.688196</td>\n",
       "      <td>17.129607</td>\n",
       "      <td>0.482744</td>\n",
       "    </tr>\n",
       "    <tr>\n",
       "      <th>min</th>\n",
       "      <td>1.045554</td>\n",
       "      <td>40.277921</td>\n",
       "      <td>0.000000</td>\n",
       "    </tr>\n",
       "    <tr>\n",
       "      <th>25%</th>\n",
       "      <td>3.171517</td>\n",
       "      <td>53.745955</td>\n",
       "      <td>0.000000</td>\n",
       "    </tr>\n",
       "    <tr>\n",
       "      <th>50%</th>\n",
       "      <td>5.618474</td>\n",
       "      <td>68.309294</td>\n",
       "      <td>0.000000</td>\n",
       "    </tr>\n",
       "    <tr>\n",
       "      <th>75%</th>\n",
       "      <td>7.805124</td>\n",
       "      <td>83.580209</td>\n",
       "      <td>1.000000</td>\n",
       "    </tr>\n",
       "    <tr>\n",
       "      <th>max</th>\n",
       "      <td>9.936683</td>\n",
       "      <td>99.983060</td>\n",
       "      <td>1.000000</td>\n",
       "    </tr>\n",
       "  </tbody>\n",
       "</table>\n",
       "</div>"
      ],
      "text/plain": [
       "       Study Hours  Previous Exam Score   Pass/Fail\n",
       "count   500.000000           500.000000  500.000000\n",
       "mean      5.487055            68.917084    0.368000\n",
       "std       2.688196            17.129607    0.482744\n",
       "min       1.045554            40.277921    0.000000\n",
       "25%       3.171517            53.745955    0.000000\n",
       "50%       5.618474            68.309294    0.000000\n",
       "75%       7.805124            83.580209    1.000000\n",
       "max       9.936683            99.983060    1.000000"
      ]
     },
     "execution_count": 2,
     "metadata": {},
     "output_type": "execute_result"
    }
   ],
   "source": [
    "# Import and read the file path for the data to be visualize\n",
    "file_path = \"../input/student-exam-performance-prediction/student_exam_data.csv\"\n",
    "\n",
    "my_data = pd.read_csv(file_path)\n",
    "\n",
    "my_data.describe()"
   ]
  },
  {
   "cell_type": "code",
   "execution_count": 3,
   "id": "f41bc461",
   "metadata": {
    "execution": {
     "iopub.execute_input": "2024-03-04T13:23:03.667076Z",
     "iopub.status.busy": "2024-03-04T13:23:03.666708Z",
     "iopub.status.idle": "2024-03-04T13:23:04.062341Z",
     "shell.execute_reply": "2024-03-04T13:23:04.061216Z"
    },
    "papermill": {
     "duration": 0.402638,
     "end_time": "2024-03-04T13:23:04.065046",
     "exception": false,
     "start_time": "2024-03-04T13:23:03.662408",
     "status": "completed"
    },
    "tags": []
   },
   "outputs": [
    {
     "data": {
      "text/plain": [
       "<Axes: title={'center': \"Student's Exam Performance\"}, xlabel='Pass/Fail', ylabel='count'>"
      ]
     },
     "execution_count": 3,
     "metadata": {},
     "output_type": "execute_result"
    },
    {
     "data": {
      "image/png": "[encoded data removed]",
      "text/plain": [
       "<Figure size 640x480 with 1 Axes>"
      ]
     },
     "metadata": {},
     "output_type": "display_data"
    }
   ],
   "source": [
    "# create a plot\n",
    "plt.title(\"Student's Exam Performance\")\n",
    "\n",
    "sns.countplot(x = \"Pass/Fail\", data = my_data)"
   ]
  }
 ],
 "metadata": {
  "kaggle": {
   "accelerator": "none",
   "dataSources": [
    {
     "datasetId": 4302880,
     "sourceId": 7623777,
     "sourceType": "datasetVersion"
    }
   ],
   "dockerImageVersionId": 30664,
   "isGpuEnabled": false,
   "isInternetEnabled": true,
   "language": "python",
   "sourceType": "notebook"
  },
  "kernelspec": {
   "display_name": "Python 3",
   "language": "python",
   "name": "python3"
  },
  "language_info": {
   "codemirror_mode": {
    "name": "ipython",
    "version": 3
   },
   "file_extension": ".py",
   "mimetype": "text/x-python",
   "name": "python",
   "nbconvert_exporter": "python",
   "pygments_lexer": "ipython3",
   "version": "3.10.13"
  },
  "papermill": {
   "default_parameters": {},
   "duration": 6.334655,
   "end_time": "2024-03-04T13:23:04.690293",
   "environment_variables": {},
   "exception": null,
   "input_path": "__notebook__.ipynb",
   "output_path": "__notebook__.ipynb",
   "parameters": {},
   "start_time": "2024-03-04T13:22:58.355638",
   "version": "2.5.0"
  }
 },
 "nbformat": 4,
 "nbformat_minor": 5
}
